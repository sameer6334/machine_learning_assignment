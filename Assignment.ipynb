{
 "cells": [
  {
   "cell_type": "markdown",
   "id": "b8875161-9822-4574-860f-539ce19a9d97",
   "metadata": {},
   "source": [
    "# 1. What is a parameter?"
   ]
  },
  {
   "cell_type": "markdown",
   "id": "fa7b499c-fddc-4628-9cb5-5ca3bf733fc5",
   "metadata": {},
   "source": [
    "### parameter is a variable which is used to give information into a function or a model. It helps define how functions or models behaves after giving specific values"
   ]
  },
  {
   "cell_type": "markdown",
   "id": "49a51346-c93f-4df6-9d7e-7f51ff345f91",
   "metadata": {},
   "source": [
    "# 2. What is correlation?\n",
    "##    What does negative correlation mean?"
   ]
  },
  {
   "cell_type": "markdown",
   "id": "a8623cf9-d552-44d5-a172-ed9e6d3a0472",
   "metadata": {},
   "source": [
    "### correlation describes the relation between two variable. It tells how one variable changes with respect to another one.\n",
    "### negative correlation means if one variable increses the other on decreases"
   ]
  },
  {
   "cell_type": "markdown",
   "id": "9469bd9c-a871-4648-8140-4a80c556e1da",
   "metadata": {},
   "source": [
    "# 3. Define Machine Learning. What are the main components in Machine Learning?"
   ]
  },
  {
   "cell_type": "markdown",
   "id": "a1a802ae-c9fc-4af8-8b92-0c3ad77b21d7",
   "metadata": {},
   "source": [
    "### Machine learning is a branch of AI which learns patterns from the data and give predictions without being explicilty programmed."
   ]
  },
  {
   "cell_type": "markdown",
   "id": "6159ecc4-9160-4201-9bbc-cf82a868e461",
   "metadata": {},
   "source": [
    "### Data,Model,Training,Features,Optimization Algorithm,Evaluation matrics are the main components of machine learning"
   ]
  },
  {
   "cell_type": "markdown",
   "id": "919a8b96-7838-4aa2-85b7-9ec7950f12cb",
   "metadata": {},
   "source": [
    "# 4. How does loss value help in determining whether the model is good or not?"
   ]
  },
  {
   "cell_type": "markdown",
   "id": "45d692f0-079a-4500-9de6-a35a55f84c90",
   "metadata": {},
   "source": [
    "### loss value is a numerical measure of how far a model's prediction from actual values. It helps us to know whether the model is performing well or it needs a improvement"
   ]
  },
  {
   "cell_type": "markdown",
   "id": "2156fc52-e272-45ca-b09c-c841adafb2c7",
   "metadata": {},
   "source": [
    "### low loss values means the model prediction is closer to actual value suggesting good model performance\n",
    "### high loss values means the model prediction is far away from actual values suggesting poor model performance"
   ]
  },
  {
   "cell_type": "markdown",
   "id": "0c8c258c-dd63-4740-9a45-b16a0e7bfa48",
   "metadata": {},
   "source": [
    "# 5. What are continuous and categorical variables?\n"
   ]
  },
  {
   "cell_type": "markdown",
   "id": "3958e8d5-355b-4bb4-92ef-3a1db92ca36a",
   "metadata": {},
   "source": [
    "### continuous variables are numerical variables that can take infinite number of values in a given range\n",
    "### it can measured not count\n",
    "### Example :-- weight of a person(96.35kg), height of person(125.3cm)\n",
    "\n",
    "### categorical variables are not numeric in natures\n",
    "### we can count the categorical values, we cannot measure the categorical values\n",
    "### examples :-- gender(male,femal), eye colour(blue,green,yellow)"
   ]
  },
  {
   "cell_type": "markdown",
   "id": "a1e775f2-511b-47e2-9033-9046670950fa",
   "metadata": {},
   "source": [
    "# 6. How do we handle categorical variables in Machine Learning? What are the common techniques?"
   ]
  },
  {
   "cell_type": "code",
   "execution_count": 20,
   "id": "f32b195e-28cc-4b60-bd35-486156017e79",
   "metadata": {},
   "outputs": [
    {
     "data": {
      "text/plain": [
       "array([[0., 0., 1.],\n",
       "       [1., 0., 0.],\n",
       "       [0., 1., 0.]])"
      ]
     },
     "execution_count": 20,
     "metadata": {},
     "output_type": "execute_result"
    }
   ],
   "source": [
    "### We can handle categorical variables in machine learning through Encoding \n",
    "### there are different types of encoding\n",
    "### 1. nominal/One hot encoding\n",
    "### -->> creates seperate columns of each category (dummy variables)\n",
    "### -->> converts caegories into binaries(0s and 1s)\n",
    "### python implementation\n",
    "\n",
    "import pandas as pd\n",
    "df = pd.DataFrame({\"colours\" : [\"red\",\"blue\",\"green\"]})\n",
    "encoded = pd.get_dummies(df)\n",
    "encoded\n",
    "\n",
    "#another way\n",
    "from sklearn.preprocessing import OneHotEncoder\n",
    "\n",
    "encoder = OneHotEncoder()\n",
    "encoded1 = encoder.fit_transform(df[[\"colours\"]]).toarray()\n",
    "encoded1\n",
    "\n"
   ]
  },
  {
   "cell_type": "code",
   "execution_count": 28,
   "id": "cc366bf9-1831-4c81-9ebd-7b1d52e5785c",
   "metadata": {},
   "outputs": [
    {
     "data": {
      "text/plain": [
       "array([2, 0, 1])"
      ]
     },
     "execution_count": 28,
     "metadata": {},
     "output_type": "execute_result"
    }
   ],
   "source": [
    "### 2. Label encoding\n",
    "### -->> assigns unique value to each category\n",
    "import warnings\n",
    "warnings.filterwarnings(\"ignore\")\n",
    "\n",
    "from sklearn.preprocessing import LabelEncoder\n",
    "encoder = LabelEncoder()\n",
    "encoder.fit_transform(df[['colours']])\n",
    "\n"
   ]
  },
  {
   "cell_type": "code",
   "execution_count": 31,
   "id": "32b2fa7f-1e63-479f-941e-cd34104d7dd6",
   "metadata": {},
   "outputs": [
    {
     "data": {
      "text/plain": [
       "array([[2.],\n",
       "       [0.],\n",
       "       [1.]])"
      ]
     },
     "execution_count": 31,
     "metadata": {},
     "output_type": "execute_result"
    }
   ],
   "source": [
    "### 3. Ordinal Encoder \n",
    "### -->> similar to label encoding but preserves the ordinal relationships\n",
    "\n",
    "from sklearn.preprocessing import OrdinalEncoder\n",
    "ordinal_encoder = OrdinalEncoder()\n",
    "\n",
    "ordinal_encoder.fit_transform(df[[\"colours\"]])"
   ]
  },
  {
   "cell_type": "code",
   "execution_count": 39,
   "id": "e34eff5e-75f2-4b18-b5af-375e89f8b60b",
   "metadata": {},
   "outputs": [
    {
     "data": {
      "text/html": [
       "<div>\n",
       "<style scoped>\n",
       "    .dataframe tbody tr th:only-of-type {\n",
       "        vertical-align: middle;\n",
       "    }\n",
       "\n",
       "    .dataframe tbody tr th {\n",
       "        vertical-align: top;\n",
       "    }\n",
       "\n",
       "    .dataframe thead th {\n",
       "        text-align: right;\n",
       "    }\n",
       "</style>\n",
       "<table border=\"1\" class=\"dataframe\">\n",
       "  <thead>\n",
       "    <tr style=\"text-align: right;\">\n",
       "      <th></th>\n",
       "      <th>time</th>\n",
       "      <th>total_bill</th>\n",
       "      <th>encoded</th>\n",
       "    </tr>\n",
       "  </thead>\n",
       "  <tbody>\n",
       "    <tr>\n",
       "      <th>0</th>\n",
       "      <td>lunch</td>\n",
       "      <td>120</td>\n",
       "      <td>135.000000</td>\n",
       "    </tr>\n",
       "    <tr>\n",
       "      <th>1</th>\n",
       "      <td>breakfast</td>\n",
       "      <td>130</td>\n",
       "      <td>153.333333</td>\n",
       "    </tr>\n",
       "    <tr>\n",
       "      <th>2</th>\n",
       "      <td>dinner</td>\n",
       "      <td>90</td>\n",
       "      <td>156.333333</td>\n",
       "    </tr>\n",
       "    <tr>\n",
       "      <th>3</th>\n",
       "      <td>lunch</td>\n",
       "      <td>125</td>\n",
       "      <td>135.000000</td>\n",
       "    </tr>\n",
       "    <tr>\n",
       "      <th>4</th>\n",
       "      <td>breakfast</td>\n",
       "      <td>150</td>\n",
       "      <td>153.333333</td>\n",
       "    </tr>\n",
       "    <tr>\n",
       "      <th>5</th>\n",
       "      <td>dinner</td>\n",
       "      <td>190</td>\n",
       "      <td>156.333333</td>\n",
       "    </tr>\n",
       "    <tr>\n",
       "      <th>6</th>\n",
       "      <td>lunch</td>\n",
       "      <td>160</td>\n",
       "      <td>135.000000</td>\n",
       "    </tr>\n",
       "    <tr>\n",
       "      <th>7</th>\n",
       "      <td>breakfast</td>\n",
       "      <td>180</td>\n",
       "      <td>153.333333</td>\n",
       "    </tr>\n",
       "    <tr>\n",
       "      <th>8</th>\n",
       "      <td>dinner</td>\n",
       "      <td>189</td>\n",
       "      <td>156.333333</td>\n",
       "    </tr>\n",
       "  </tbody>\n",
       "</table>\n",
       "</div>"
      ],
      "text/plain": [
       "        time  total_bill     encoded\n",
       "0      lunch         120  135.000000\n",
       "1  breakfast         130  153.333333\n",
       "2     dinner          90  156.333333\n",
       "3      lunch         125  135.000000\n",
       "4  breakfast         150  153.333333\n",
       "5     dinner         190  156.333333\n",
       "6      lunch         160  135.000000\n",
       "7  breakfast         180  153.333333\n",
       "8     dinner         189  156.333333"
      ]
     },
     "execution_count": 39,
     "metadata": {},
     "output_type": "execute_result"
    }
   ],
   "source": [
    "### 4. target guided ordinal encoding\n",
    "### -->> useful when we have large number of unique categories\n",
    "\n",
    "df = pd.DataFrame({'time':['lunch', 'breakfast', 'dinner', 'lunch', 'breakfast', 'dinner', 'lunch', 'breakfast', 'dinner'],\n",
    "             'total_bill': [120, 130, 90, 125, 150, 190, 160, 180, 189]})\n",
    "\n",
    "mean_price = df.groupby('time')[\"total_bill\"].mean()\n",
    "\n",
    "df[\"encoded\"] = df['time'].map(mean_price)\n",
    "\n",
    "df"
   ]
  },
  {
   "cell_type": "markdown",
   "id": "2e704284-d2f2-4016-b52d-7b641a4c22d6",
   "metadata": {},
   "source": [
    "# 7. What do you mean by training and testing a dataset?"
   ]
  },
  {
   "cell_type": "code",
   "execution_count": 44,
   "id": "1b9dd8ef-6237-4bd5-9839-cdc04d1b39e0",
   "metadata": {},
   "outputs": [],
   "source": [
    "### training set is the portion of the data which is used to train the machine learning model\n",
    "### the model learns pattern,relationships,trends from this data\n",
    "### it contains both input features and output feastures (for supervised learning)\n",
    "\n",
    "### if we are training the model to predict the price of house then the dataset :-\n",
    "\n",
    "### Square Footage\t    Location\tPrice (Target)\n",
    "### 1200\t            City A\t    ₹50,00,000\n",
    "### 1500\t            City B\t    ₹60,00,000\n",
    "### 1800\t            City A\t    ₹75,00,000\n",
    "\n",
    "\n",
    "### The test set is used to judge how trained model performs with new data\n",
    "### testing of data performs on unseen data\n",
    "### Example -->> a house prince predicion model is trained on oast sales now it will be tested on new houses to check whether it predicts correct price or not\n"
   ]
  },
  {
   "cell_type": "markdown",
   "id": "a311f6de-407f-4d3c-8f3e-ae8e83a9cd42",
   "metadata": {},
   "source": [
    "# 8. What is sklearn.preprocessing? "
   ]
  },
  {
   "cell_type": "markdown",
   "id": "7507d6bc-82a5-449a-ad9b-62e222b640eb",
   "metadata": {},
   "source": [
    "### sklearn.preprocessing is module in scikit-learn which provides function for preprocessing and transformation. It helps in scaling,normalizing,encoding and imputing missing value to prepare data for machine learning model. Proper preprocessing ensures that modlr performs optimally by handeliing issues in feature scale,categorical data, feature selection and missing value."
   ]
  },
  {
   "cell_type": "markdown",
   "id": "aad9ebcf-1f0c-4c80-bf33-72ff23154dcb",
   "metadata": {},
   "source": [
    "### 1. Scaling & Normalization\n",
    "### StandardScaler: Standardizes features by removing the mean and scaling to unit variance.\n",
    "### MinMaxScaler: Scales features to a specified range (default 0 to 1). "
   ]
  },
  {
   "cell_type": "markdown",
   "id": "47c43b1e-417d-418e-b7e7-92100dfd236c",
   "metadata": {},
   "source": [
    "### 2. Encoding Categorical Variables"
   ]
  },
  {
   "cell_type": "markdown",
   "id": "6e109eaa-e354-418b-8e6c-1c78e46573c3",
   "metadata": {},
   "source": [
    "### LabelEncoder: Converts categorical labels into numerical form.\n",
    "### OneHotEncoder: Converts categorical features into one-hot encoded format.\n",
    "### OrdinalEncoder: Encodes categorical features as ordinal integers."
   ]
  },
  {
   "cell_type": "markdown",
   "id": "31108fee-a665-45f9-afbb-8b92f4d13cd5",
   "metadata": {},
   "source": [
    "# 9. What is a Test set?"
   ]
  },
  {
   "cell_type": "markdown",
   "id": "10455102-591e-4fba-b8a2-d63dad84b22e",
   "metadata": {},
   "source": [
    "### A test data is a subset of data used to evaluate the performance of the trained machone learning model. It helps to measure how model generalizes to unseen data "
   ]
  },
  {
   "cell_type": "markdown",
   "id": "840522b7-7d37-49e8-8d9d-474b40bb059b",
   "metadata": {},
   "source": [
    "### Purpose :- It is used for evalauation, not for training\n",
    "### Separation :- Usually data is separated into train,validation and test sets\n",
    "### Size :- Usually 20%-30% of the dataset is reserved as the test data "
   ]
  },
  {
   "cell_type": "markdown",
   "id": "e65cb7e1-7c46-4d27-8414-d5d946e2adb7",
   "metadata": {},
   "source": [
    "# 10. How do we split data for model fitting (training and testing) in Python? How do you approach a Machine Learning problem?"
   ]
  },
  {
   "cell_type": "markdown",
   "id": "3c6ae79f-277d-43b6-846f-02af1b0a8432",
   "metadata": {},
   "source": [
    "### Key Parameters of train_test_split\n",
    "### test_size=0.2 → 20% of the data is for testing.\n",
    "### train_size=0.8 → 80% is for training.\n",
    "### random_state=42 → Ensures reproducibility.\n",
    "\n"
   ]
  },
  {
   "cell_type": "markdown",
   "id": "2a0a3297-3ca9-4079-92a1-b477e8b6a9de",
   "metadata": {},
   "source": [
    "### 2. Approach to Solving a Machine Learning Problem\n",
    "### 1\tDefine the Problem\n",
    "### 2\tCollect & Explore Data (EDA)\n",
    "### 3\tPreprocess Data (Handle missing values, encode, scale)\n",
    "### 4\tSplit Data (Train-Test)\n",
    "### 5\tTrain the Model\n",
    "### 6\tEvaluate Performance\n",
    "### 7\tOptimize Hyperparameters\n",
    "### 8\tDeploy Model"
   ]
  },
  {
   "cell_type": "markdown",
   "id": "ebd906c6-5a5f-4f88-a00b-22a97d9fd45f",
   "metadata": {},
   "source": [
    "# 11. Why do we have to perform EDA before fitting a model to the data?"
   ]
  },
  {
   "cell_type": "markdown",
   "id": "fb3e461a-e5d0-4da5-a5c2-32d43fcafa0f",
   "metadata": {},
   "source": [
    "### EDA is a crucial step in machine leanring it help to understand dataset, detect patterns and identify potential issue before training of a model. Without EDA mode may learn from biased, incorrect or incomplete data,leading to poor performance"
   ]
  },
  {
   "cell_type": "markdown",
   "id": "ed6efbbf-8eaa-4535-9a62-ce31c2d0c4d4",
   "metadata": {},
   "source": [
    "### Key Reasons to Perform EDA\n",
    "### 1. Understand the Dataset -->> Know feature types, distributions, and patterns\n",
    "### 2. Handle Missing Values -->>\tPrevent errors and bias\n",
    "### 3. Detect Outliers -->>\tAvoid skewing model performance\n",
    "### 4. Feature Correlation -->>\tPrevent multicollinearity\n",
    "### 5. Encode Categorical Data -->>\tMake data model-friendly\n",
    "### 6. Apply Scaling -->>\tEnsure proper feature weighting\n",
    "### 7. Feature Engineering -->>\tImprove model accuracy\n",
    "### 8. Check Data Distribution -->> Choose the right ML model"
   ]
  },
  {
   "cell_type": "markdown",
   "id": "f09ad46b-8efc-4e25-8271-1421bde73880",
   "metadata": {},
   "source": [
    "# 12. How can you find correlation between variables in Python?"
   ]
  },
  {
   "cell_type": "code",
   "execution_count": 3,
   "id": "6ec265ab-48d6-46ba-ab3f-e0abe935b87c",
   "metadata": {},
   "outputs": [
    {
     "name": "stdout",
     "output_type": "stream",
     "text": [
      "               Hours_Studied  Exam_Score  Sleep_Hours\n",
      "Hours_Studied       1.000000    0.986540    -0.984937\n",
      "Exam_Score          0.986540    1.000000    -0.975573\n",
      "Sleep_Hours        -0.984937   -0.975573     1.000000\n"
     ]
    }
   ],
   "source": [
    "import pandas as pd\n",
    "\n",
    "# Sample data\n",
    "data = {\n",
    "    'Hours_Studied': [1, 2, 3, 4, 5, 6, 7, 8, 9, 10],\n",
    "    'Exam_Score': [50, 55, 65, 70, 75, 80, 85, 88, 90, 95],\n",
    "    'Sleep_Hours': [8, 7, 6, 6, 5, 5, 4, 4, 3, 2]\n",
    "}\n",
    "\n",
    "df = pd.DataFrame(data)\n",
    "\n",
    "# Compute correlation\n",
    "correlation_matrix = df.corr()\n",
    "\n",
    "print(correlation_matrix)"
   ]
  },
  {
   "cell_type": "code",
   "execution_count": 13,
   "id": "8e7379fb-c11b-4623-b485-c41788a00767",
   "metadata": {},
   "outputs": [
    {
     "data": {
      "text/plain": [
       "<Axes: >"
      ]
     },
     "execution_count": 13,
     "metadata": {},
     "output_type": "execute_result"
    },
    {
     "data": {
      "image/png": "[encoded data removed]",
      "text/plain": [
       "<Figure size 640x480 with 2 Axes>"
      ]
     },
     "metadata": {},
     "output_type": "display_data"
    }
   ],
   "source": [
    "import seaborn as sns\n",
    "sns.heatmap(correlation_matrix, annot=True,  cmap='coolwarm', linewidths=0.5)"
   ]
  },
  {
   "cell_type": "markdown",
   "id": "d0478c94-1f48-4051-bd09-eb2649a58e65",
   "metadata": {},
   "source": [
    "# 13. Explain data encoding?"
   ]
  },
  {
   "cell_type": "code",
   "execution_count": 14,
   "id": "926e8030-a738-45d4-9513-2d4b93eb1f76",
   "metadata": {},
   "outputs": [
    {
     "data": {
      "text/html": [
       "<div>\n",
       "<style scoped>\n",
       "    .dataframe tbody tr th:only-of-type {\n",
       "        vertical-align: middle;\n",
       "    }\n",
       "\n",
       "    .dataframe tbody tr th {\n",
       "        vertical-align: top;\n",
       "    }\n",
       "\n",
       "    .dataframe thead th {\n",
       "        text-align: right;\n",
       "    }\n",
       "</style>\n",
       "<table border=\"1\" class=\"dataframe\">\n",
       "  <thead>\n",
       "    <tr style=\"text-align: right;\">\n",
       "      <th></th>\n",
       "      <th>total_bill</th>\n",
       "      <th>tip</th>\n",
       "      <th>sex</th>\n",
       "      <th>smoker</th>\n",
       "      <th>day</th>\n",
       "      <th>time</th>\n",
       "      <th>size</th>\n",
       "      <th>time_encoded</th>\n",
       "    </tr>\n",
       "  </thead>\n",
       "  <tbody>\n",
       "    <tr>\n",
       "      <th>0</th>\n",
       "      <td>16.99</td>\n",
       "      <td>1.01</td>\n",
       "      <td>Female</td>\n",
       "      <td>No</td>\n",
       "      <td>Sun</td>\n",
       "      <td>Dinner</td>\n",
       "      <td>2</td>\n",
       "      <td>20.797159</td>\n",
       "    </tr>\n",
       "    <tr>\n",
       "      <th>1</th>\n",
       "      <td>10.34</td>\n",
       "      <td>1.66</td>\n",
       "      <td>Male</td>\n",
       "      <td>No</td>\n",
       "      <td>Sun</td>\n",
       "      <td>Dinner</td>\n",
       "      <td>3</td>\n",
       "      <td>20.797159</td>\n",
       "    </tr>\n",
       "    <tr>\n",
       "      <th>2</th>\n",
       "      <td>21.01</td>\n",
       "      <td>3.50</td>\n",
       "      <td>Male</td>\n",
       "      <td>No</td>\n",
       "      <td>Sun</td>\n",
       "      <td>Dinner</td>\n",
       "      <td>3</td>\n",
       "      <td>20.797159</td>\n",
       "    </tr>\n",
       "    <tr>\n",
       "      <th>3</th>\n",
       "      <td>23.68</td>\n",
       "      <td>3.31</td>\n",
       "      <td>Male</td>\n",
       "      <td>No</td>\n",
       "      <td>Sun</td>\n",
       "      <td>Dinner</td>\n",
       "      <td>2</td>\n",
       "      <td>20.797159</td>\n",
       "    </tr>\n",
       "    <tr>\n",
       "      <th>4</th>\n",
       "      <td>24.59</td>\n",
       "      <td>3.61</td>\n",
       "      <td>Female</td>\n",
       "      <td>No</td>\n",
       "      <td>Sun</td>\n",
       "      <td>Dinner</td>\n",
       "      <td>4</td>\n",
       "      <td>20.797159</td>\n",
       "    </tr>\n",
       "    <tr>\n",
       "      <th>...</th>\n",
       "      <td>...</td>\n",
       "      <td>...</td>\n",
       "      <td>...</td>\n",
       "      <td>...</td>\n",
       "      <td>...</td>\n",
       "      <td>...</td>\n",
       "      <td>...</td>\n",
       "      <td>...</td>\n",
       "    </tr>\n",
       "    <tr>\n",
       "      <th>239</th>\n",
       "      <td>29.03</td>\n",
       "      <td>5.92</td>\n",
       "      <td>Male</td>\n",
       "      <td>No</td>\n",
       "      <td>Sat</td>\n",
       "      <td>Dinner</td>\n",
       "      <td>3</td>\n",
       "      <td>20.797159</td>\n",
       "    </tr>\n",
       "    <tr>\n",
       "      <th>240</th>\n",
       "      <td>27.18</td>\n",
       "      <td>2.00</td>\n",
       "      <td>Female</td>\n",
       "      <td>Yes</td>\n",
       "      <td>Sat</td>\n",
       "      <td>Dinner</td>\n",
       "      <td>2</td>\n",
       "      <td>20.797159</td>\n",
       "    </tr>\n",
       "    <tr>\n",
       "      <th>241</th>\n",
       "      <td>22.67</td>\n",
       "      <td>2.00</td>\n",
       "      <td>Male</td>\n",
       "      <td>Yes</td>\n",
       "      <td>Sat</td>\n",
       "      <td>Dinner</td>\n",
       "      <td>2</td>\n",
       "      <td>20.797159</td>\n",
       "    </tr>\n",
       "    <tr>\n",
       "      <th>242</th>\n",
       "      <td>17.82</td>\n",
       "      <td>1.75</td>\n",
       "      <td>Male</td>\n",
       "      <td>No</td>\n",
       "      <td>Sat</td>\n",
       "      <td>Dinner</td>\n",
       "      <td>2</td>\n",
       "      <td>20.797159</td>\n",
       "    </tr>\n",
       "    <tr>\n",
       "      <th>243</th>\n",
       "      <td>18.78</td>\n",
       "      <td>3.00</td>\n",
       "      <td>Female</td>\n",
       "      <td>No</td>\n",
       "      <td>Thur</td>\n",
       "      <td>Dinner</td>\n",
       "      <td>2</td>\n",
       "      <td>20.797159</td>\n",
       "    </tr>\n",
       "  </tbody>\n",
       "</table>\n",
       "<p>244 rows × 8 columns</p>\n",
       "</div>"
      ],
      "text/plain": [
       "     total_bill   tip     sex smoker   day    time  size time_encoded\n",
       "0         16.99  1.01  Female     No   Sun  Dinner     2    20.797159\n",
       "1         10.34  1.66    Male     No   Sun  Dinner     3    20.797159\n",
       "2         21.01  3.50    Male     No   Sun  Dinner     3    20.797159\n",
       "3         23.68  3.31    Male     No   Sun  Dinner     2    20.797159\n",
       "4         24.59  3.61  Female     No   Sun  Dinner     4    20.797159\n",
       "..          ...   ...     ...    ...   ...     ...   ...          ...\n",
       "239       29.03  5.92    Male     No   Sat  Dinner     3    20.797159\n",
       "240       27.18  2.00  Female    Yes   Sat  Dinner     2    20.797159\n",
       "241       22.67  2.00    Male    Yes   Sat  Dinner     2    20.797159\n",
       "242       17.82  1.75    Male     No   Sat  Dinner     2    20.797159\n",
       "243       18.78  3.00  Female     No  Thur  Dinner     2    20.797159\n",
       "\n",
       "[244 rows x 8 columns]"
      ]
     },
     "execution_count": 14,
     "metadata": {},
     "output_type": "execute_result"
    }
   ],
   "source": [
    "# Data encoding -->> converting categorical columns into numeric\n",
    "# Nominal / One Hot Encoding\n",
    "# Label and Ordinal Encoding\n",
    "# Target Guided Ordinal Encoding\n",
    "\n",
    "# Nominal / One Hot Encoding -->> Binary vectors for each of the categories\n",
    "# Example -->> single, married, separated\n",
    "# single : [1,0,0]\n",
    "# married : [0,1,0]\n",
    "# separated : [0,0,1]\n",
    "\n",
    "import pandas as pd \n",
    "from sklearn.preprocessing import OneHotEncoder\n",
    "\n",
    "import warnings\n",
    "warnings.filterwarnings('ignore')\n",
    "\n",
    "df = pd.DataFrame({'status' : [\"single\",\"married\",\"separated\",\"single\",\"married\"]})\n",
    "df\n",
    "\n",
    "encoder = OneHotEncoder()\n",
    "\n",
    "encoded = encoder.fit_transform(df[['status']]).toarray()\n",
    "encoded\n",
    "\n",
    "encoder.get_feature_names_out()\n",
    "\n",
    "encoded_df = pd.DataFrame(encoded, columns = encoder.get_feature_names_out())\n",
    "encoded_df\n",
    "\n",
    "encoder.transform([['single']]).toarray()\n",
    "\n",
    "# Other way -->> Using pd.get_dummies()\n",
    "\n",
    "pd.get_dummies(df)\n",
    "\n",
    "pd.concat([df, encoded_df], axis=1)\n",
    "\n",
    "import seaborn as sns\n",
    "\n",
    "sns.load_dataset(\"tips\")\n",
    "\n",
    "# Label Encoding -->> Assigns unique labels to the categories\n",
    "# Using map or using library\n",
    "\n",
    "df\n",
    "\n",
    "from sklearn.preprocessing import LabelEncoder\n",
    "\n",
    "label_encoder = LabelEncoder()\n",
    "\n",
    "label_encoder.fit_transform(df[['status']])\n",
    "\n",
    "label_encoder.transform([['separated']])\n",
    "\n",
    "# Ordinal Encoding\n",
    "\n",
    "# High school : 1\n",
    "# Graduate: 2\n",
    "# Post Graduate: 3\n",
    "# PhD: 4\n",
    "\n",
    "from sklearn.preprocessing import OrdinalEncoder\n",
    "# preprocessing is a module inside sklearn\n",
    "\n",
    "df = pd.DataFrame({\"qualification\": [\"HS\",\"GR\",\"PG\",\"PHD\"]})\n",
    "\n",
    "encoder = OrdinalEncoder(categories=[['HS','GR','PG','PHD']])  # Output will be in this sequence\n",
    "encoder\n",
    "\n",
    "encoder.fit_transform(df[[\"qualification\"]])\n",
    "\n",
    "# New Data\n",
    "\n",
    "encoder.transform([[\"PG\"]])\n",
    "\n",
    "# Target Guided Ordinal Encoding \n",
    "# Relationship with target variable \n",
    "# A lot of unique categories are there\n",
    "# Replace the category with mean and median of respective group\n",
    "\n",
    "df = pd.DataFrame({'time': ['lunch', 'breakfast', 'dinner', 'lunch', 'breakfast', 'dinner', 'lunch', 'breakfast', 'dinner'],\n",
    "                   'total_bill': [120, 130, 90, 125, 150, 190, 160, 180, 189]})\n",
    "\n",
    "df\n",
    "\n",
    "mean_price = df.groupby('time')['total_bill'].mean().to_dict()\n",
    "\n",
    "df[\"time_encoded\"] = df['time'].map(mean_price)\n",
    "\n",
    "df\n",
    "\n",
    "df = sns.load_dataset(\"tips\")\n",
    "df\n",
    "\n",
    "mean_price = df.groupby('time')[\"total_bill\"].mean().to_dict()\n",
    "\n",
    "df[\"time_encoded\"] = df['time'].map(mean_price)\n",
    "\n",
    "df\n"
   ]
  },
  {
   "cell_type": "code",
   "execution_count": null,
   "id": "becd20eb-1668-4bc5-ad41-ba76676da2d9",
   "metadata": {},
   "outputs": [],
   "source": []
  }
 ],
 "metadata": {
  "kernelspec": {
   "display_name": "Python 3 (ipykernel)",
   "language": "python",
   "name": "python3"
  },
  "language_info": {
   "codemirror_mode": {
    "name": "ipython",
    "version": 3
   },
   "file_extension": ".py",
   "mimetype": "text/x-python",
   "name": "python",
   "nbconvert_exporter": "python",
   "pygments_lexer": "ipython3",
   "version": "3.13.0"
  }
 },
 "nbformat": 4,
 "nbformat_minor": 5
}
